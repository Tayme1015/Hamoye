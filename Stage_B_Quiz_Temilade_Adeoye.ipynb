{
  "nbformat": 4,
  "nbformat_minor": 0,
  "metadata": {
    "kernelspec": {
      "display_name": "Python 3",
      "language": "python",
      "name": "python3"
    },
    "language_info": {
      "codemirror_mode": {
        "name": "ipython",
        "version": 3
      },
      "file_extension": ".py",
      "mimetype": "text/x-python",
      "name": "python",
      "nbconvert_exporter": "python",
      "pygments_lexer": "ipython3",
      "version": "3.7.3"
    },
    "colab": {
      "name": "Stage B Quiz - Temilade Adeoye.ipynb",
      "provenance": [],
      "toc_visible": true,
      "include_colab_link": true
    }
  },
  "cells": [
    {
      "cell_type": "markdown",
      "metadata": {
        "id": "view-in-github",
        "colab_type": "text"
      },
      "source": [
        "<a href=\"https://colab.research.google.com/github/Tayme1015/Hamoye/blob/master/Stage_B_Quiz_Temilade_Adeoye.ipynb\" target=\"_parent\"><img src=\"https://colab.research.google.com/assets/colab-badge.svg\" alt=\"Open In Colab\"/></a>"
      ]
    },
    {
      "cell_type": "markdown",
      "metadata": {
        "id": "1e6GM_N1lLPS",
        "colab_type": "text"
      },
      "source": [
        "# Stage B Quiz"
      ]
    },
    {
      "cell_type": "markdown",
      "metadata": {
        "id": "bKCT7Fw4lLPV",
        "colab_type": "text"
      },
      "source": [
        "## Appliances Energy Prediction Data Set"
      ]
    },
    {
      "cell_type": "markdown",
      "metadata": {
        "id": "cyy7Lg41lLPZ",
        "colab_type": "text"
      },
      "source": [
        "### Import Libraries"
      ]
    },
    {
      "cell_type": "code",
      "metadata": {
        "id": "WCcTEy61lLPc",
        "colab_type": "code",
        "colab": {}
      },
      "source": [
        "import pandas as pd\n",
        "import numpy as np\n",
        "import matplotlib.pyplot as plt\n",
        "import seaborn as sns\n",
        "from sklearn.preprocessing import MinMaxScaler\n",
        "from sklearn.model_selection import train_test_split \n",
        "from sklearn.linear_model import LinearRegression\n",
        "from sklearn.metrics import mean_absolute_error\n",
        "from sklearn.metrics import mean_squared_error\n",
        "from sklearn.metrics import r2_score\n",
        "\n",
        "from sklearn.linear_model import Ridge\n",
        "from sklearn.linear_model import Lasso"
      ],
      "execution_count": null,
      "outputs": []
    },
    {
      "cell_type": "markdown",
      "metadata": {
        "id": "hcyPs1gHlLPq",
        "colab_type": "text"
      },
      "source": [
        "### Load the dataset"
      ]
    },
    {
      "cell_type": "code",
      "metadata": {
        "id": "re4we5PllLPs",
        "colab_type": "code",
        "colab": {},
        "outputId": "aa48df65-9a66-4cf1-fc0a-44d658330853"
      },
      "source": [
        "raw_AE_df = pd.read_csv(\"energydata_complete.csv\")\n",
        "\n",
        "column_names = {'T1': 'Temp_Kitchen', 'RH_1': 'Humidity_Kitchen',\n",
        "                'T2': 'Temp_Living_Rm', 'RH_2': 'Humidity_Living_Rm',\n",
        "                'T3': 'Temp_Laundry_Rm','RH_3': 'Humidity_Laundry_Rm', \n",
        "                'T4': 'Temp_Office', 'RH_4': 'Humidity_Office', \n",
        "                'T5': 'Temp_Bathroom', 'RH_5': 'Humidity_Bathroom', \n",
        "                'T6': 'Temp_north_side', 'RH_6': 'Humidity_north_side', \n",
        "                'T7':'Temp_Ironing_Rm', 'RH_7': 'Humidity_Ironing_Rm',\n",
        "                'T8': 'Temp_Teens_Rm', 'RH_8': 'Humidity_Teens_Rm', \n",
        "                'T9': 'Temp_Parents_Rm', 'RH_9': 'Humidity_Parents_Rm', \n",
        "                'T_out': 'Temp_Outside', 'RH_out':'Humidity_Outside',\n",
        "                'Windspeed':'Windspeed_m/s', 'Visibility': 'Visibility_km', \n",
        "                'rv1': 'Random_Variable_1', 'rv2': 'Random_Variable_2'}\n",
        "\n",
        "raw_AE_df =raw_AE_df.rename(columns = column_names)\n",
        "raw_AE_df.columns.values"
      ],
      "execution_count": null,
      "outputs": [
        {
          "output_type": "execute_result",
          "data": {
            "text/plain": [
              "array(['date', 'Appliances', 'lights', 'Temp_Kitchen', 'Humidity_Kitchen',\n",
              "       'Temp_Living_Rm', 'Humidity_Living_Rm', 'Temp_Laundry_Rm',\n",
              "       'Humidity_Laundry_Rm', 'Temp_Office', 'Humidity_Office',\n",
              "       'Temp_Bathroom', 'Humidity_Bathroom', 'Temp_north_side',\n",
              "       'Humidity_north_side', 'Temp_Ironing_Rm', 'Humidity_Ironing_Rm',\n",
              "       'Temp_Teens_Rm', 'Humidity_Teens_Rm', 'Temp_Parents_Rm',\n",
              "       'Humidity_Parents_Rm', 'Temp_Outside', 'Press_mm_hg',\n",
              "       'Humidity_Outside', 'Windspeed_m/s', 'Visibility_km', 'Tdewpoint',\n",
              "       'Random_Variable_1', 'Random_Variable_2'], dtype=object)"
            ]
          },
          "metadata": {
            "tags": []
          },
          "execution_count": 2
        }
      ]
    },
    {
      "cell_type": "code",
      "metadata": {
        "id": "gUz4jtB1lLP1",
        "colab_type": "code",
        "colab": {},
        "outputId": "3bf1cf3a-fe08-4b4f-9a2d-f812275c7b00"
      },
      "source": [
        "#drop the date & lights column\n",
        "\n",
        "AE_df = raw_AE_df.drop(columns = ['date', 'lights'])\n",
        "\n",
        "AE_df.head()\n",
        "\n"
      ],
      "execution_count": null,
      "outputs": [
        {
          "output_type": "execute_result",
          "data": {
            "text/html": [
              "<div>\n",
              "<style scoped>\n",
              "    .dataframe tbody tr th:only-of-type {\n",
              "        vertical-align: middle;\n",
              "    }\n",
              "\n",
              "    .dataframe tbody tr th {\n",
              "        vertical-align: top;\n",
              "    }\n",
              "\n",
              "    .dataframe thead th {\n",
              "        text-align: right;\n",
              "    }\n",
              "</style>\n",
              "<table border=\"1\" class=\"dataframe\">\n",
              "  <thead>\n",
              "    <tr style=\"text-align: right;\">\n",
              "      <th></th>\n",
              "      <th>Appliances</th>\n",
              "      <th>Temp_Kitchen</th>\n",
              "      <th>Humidity_Kitchen</th>\n",
              "      <th>Temp_Living_Rm</th>\n",
              "      <th>Humidity_Living_Rm</th>\n",
              "      <th>Temp_Laundry_Rm</th>\n",
              "      <th>Humidity_Laundry_Rm</th>\n",
              "      <th>Temp_Office</th>\n",
              "      <th>Humidity_Office</th>\n",
              "      <th>Temp_Bathroom</th>\n",
              "      <th>...</th>\n",
              "      <th>Temp_Parents_Rm</th>\n",
              "      <th>Humidity_Parents_Rm</th>\n",
              "      <th>Temp_Outside</th>\n",
              "      <th>Press_mm_hg</th>\n",
              "      <th>Humidity_Outside</th>\n",
              "      <th>Windspeed_m/s</th>\n",
              "      <th>Visibility_km</th>\n",
              "      <th>Tdewpoint</th>\n",
              "      <th>Random_Variable_1</th>\n",
              "      <th>Random_Variable_2</th>\n",
              "    </tr>\n",
              "  </thead>\n",
              "  <tbody>\n",
              "    <tr>\n",
              "      <th>0</th>\n",
              "      <td>60</td>\n",
              "      <td>19.89</td>\n",
              "      <td>47.596667</td>\n",
              "      <td>19.2</td>\n",
              "      <td>44.790000</td>\n",
              "      <td>19.79</td>\n",
              "      <td>44.730000</td>\n",
              "      <td>19.000000</td>\n",
              "      <td>45.566667</td>\n",
              "      <td>17.166667</td>\n",
              "      <td>...</td>\n",
              "      <td>17.033333</td>\n",
              "      <td>45.53</td>\n",
              "      <td>6.600000</td>\n",
              "      <td>733.5</td>\n",
              "      <td>92.0</td>\n",
              "      <td>7.000000</td>\n",
              "      <td>63.000000</td>\n",
              "      <td>5.3</td>\n",
              "      <td>13.275433</td>\n",
              "      <td>13.275433</td>\n",
              "    </tr>\n",
              "    <tr>\n",
              "      <th>1</th>\n",
              "      <td>60</td>\n",
              "      <td>19.89</td>\n",
              "      <td>46.693333</td>\n",
              "      <td>19.2</td>\n",
              "      <td>44.722500</td>\n",
              "      <td>19.79</td>\n",
              "      <td>44.790000</td>\n",
              "      <td>19.000000</td>\n",
              "      <td>45.992500</td>\n",
              "      <td>17.166667</td>\n",
              "      <td>...</td>\n",
              "      <td>17.066667</td>\n",
              "      <td>45.56</td>\n",
              "      <td>6.483333</td>\n",
              "      <td>733.6</td>\n",
              "      <td>92.0</td>\n",
              "      <td>6.666667</td>\n",
              "      <td>59.166667</td>\n",
              "      <td>5.2</td>\n",
              "      <td>18.606195</td>\n",
              "      <td>18.606195</td>\n",
              "    </tr>\n",
              "    <tr>\n",
              "      <th>2</th>\n",
              "      <td>50</td>\n",
              "      <td>19.89</td>\n",
              "      <td>46.300000</td>\n",
              "      <td>19.2</td>\n",
              "      <td>44.626667</td>\n",
              "      <td>19.79</td>\n",
              "      <td>44.933333</td>\n",
              "      <td>18.926667</td>\n",
              "      <td>45.890000</td>\n",
              "      <td>17.166667</td>\n",
              "      <td>...</td>\n",
              "      <td>17.000000</td>\n",
              "      <td>45.50</td>\n",
              "      <td>6.366667</td>\n",
              "      <td>733.7</td>\n",
              "      <td>92.0</td>\n",
              "      <td>6.333333</td>\n",
              "      <td>55.333333</td>\n",
              "      <td>5.1</td>\n",
              "      <td>28.642668</td>\n",
              "      <td>28.642668</td>\n",
              "    </tr>\n",
              "    <tr>\n",
              "      <th>3</th>\n",
              "      <td>50</td>\n",
              "      <td>19.89</td>\n",
              "      <td>46.066667</td>\n",
              "      <td>19.2</td>\n",
              "      <td>44.590000</td>\n",
              "      <td>19.79</td>\n",
              "      <td>45.000000</td>\n",
              "      <td>18.890000</td>\n",
              "      <td>45.723333</td>\n",
              "      <td>17.166667</td>\n",
              "      <td>...</td>\n",
              "      <td>17.000000</td>\n",
              "      <td>45.40</td>\n",
              "      <td>6.250000</td>\n",
              "      <td>733.8</td>\n",
              "      <td>92.0</td>\n",
              "      <td>6.000000</td>\n",
              "      <td>51.500000</td>\n",
              "      <td>5.0</td>\n",
              "      <td>45.410389</td>\n",
              "      <td>45.410389</td>\n",
              "    </tr>\n",
              "    <tr>\n",
              "      <th>4</th>\n",
              "      <td>60</td>\n",
              "      <td>19.89</td>\n",
              "      <td>46.333333</td>\n",
              "      <td>19.2</td>\n",
              "      <td>44.530000</td>\n",
              "      <td>19.79</td>\n",
              "      <td>45.000000</td>\n",
              "      <td>18.890000</td>\n",
              "      <td>45.530000</td>\n",
              "      <td>17.200000</td>\n",
              "      <td>...</td>\n",
              "      <td>17.000000</td>\n",
              "      <td>45.40</td>\n",
              "      <td>6.133333</td>\n",
              "      <td>733.9</td>\n",
              "      <td>92.0</td>\n",
              "      <td>5.666667</td>\n",
              "      <td>47.666667</td>\n",
              "      <td>4.9</td>\n",
              "      <td>10.084097</td>\n",
              "      <td>10.084097</td>\n",
              "    </tr>\n",
              "  </tbody>\n",
              "</table>\n",
              "<p>5 rows × 27 columns</p>\n",
              "</div>"
            ],
            "text/plain": [
              "   Appliances  Temp_Kitchen  Humidity_Kitchen  Temp_Living_Rm  \\\n",
              "0          60         19.89         47.596667            19.2   \n",
              "1          60         19.89         46.693333            19.2   \n",
              "2          50         19.89         46.300000            19.2   \n",
              "3          50         19.89         46.066667            19.2   \n",
              "4          60         19.89         46.333333            19.2   \n",
              "\n",
              "   Humidity_Living_Rm  Temp_Laundry_Rm  Humidity_Laundry_Rm  Temp_Office  \\\n",
              "0           44.790000            19.79            44.730000    19.000000   \n",
              "1           44.722500            19.79            44.790000    19.000000   \n",
              "2           44.626667            19.79            44.933333    18.926667   \n",
              "3           44.590000            19.79            45.000000    18.890000   \n",
              "4           44.530000            19.79            45.000000    18.890000   \n",
              "\n",
              "   Humidity_Office  Temp_Bathroom  ...  Temp_Parents_Rm  Humidity_Parents_Rm  \\\n",
              "0        45.566667      17.166667  ...        17.033333                45.53   \n",
              "1        45.992500      17.166667  ...        17.066667                45.56   \n",
              "2        45.890000      17.166667  ...        17.000000                45.50   \n",
              "3        45.723333      17.166667  ...        17.000000                45.40   \n",
              "4        45.530000      17.200000  ...        17.000000                45.40   \n",
              "\n",
              "   Temp_Outside  Press_mm_hg  Humidity_Outside  Windspeed_m/s  Visibility_km  \\\n",
              "0      6.600000        733.5              92.0       7.000000      63.000000   \n",
              "1      6.483333        733.6              92.0       6.666667      59.166667   \n",
              "2      6.366667        733.7              92.0       6.333333      55.333333   \n",
              "3      6.250000        733.8              92.0       6.000000      51.500000   \n",
              "4      6.133333        733.9              92.0       5.666667      47.666667   \n",
              "\n",
              "   Tdewpoint  Random_Variable_1  Random_Variable_2  \n",
              "0        5.3          13.275433          13.275433  \n",
              "1        5.2          18.606195          18.606195  \n",
              "2        5.1          28.642668          28.642668  \n",
              "3        5.0          45.410389          45.410389  \n",
              "4        4.9          10.084097          10.084097  \n",
              "\n",
              "[5 rows x 27 columns]"
            ]
          },
          "metadata": {
            "tags": []
          },
          "execution_count": 3
        }
      ]
    },
    {
      "cell_type": "markdown",
      "metadata": {
        "id": "cG0qy9JGlLQA",
        "colab_type": "text"
      },
      "source": [
        "### Normalize the Data"
      ]
    },
    {
      "cell_type": "code",
      "metadata": {
        "id": "5anxBpOLlLQC",
        "colab_type": "code",
        "colab": {}
      },
      "source": [
        "scaler = MinMaxScaler()\n",
        "\n",
        "normalised_df = pd.DataFrame(scaler.fit_transform(AE_df), columns = AE_df.columns)\n"
      ],
      "execution_count": null,
      "outputs": []
    },
    {
      "cell_type": "markdown",
      "metadata": {
        "id": "9CQIRy8hlLQJ",
        "colab_type": "text"
      },
      "source": [
        "### Separate Features and Targets"
      ]
    },
    {
      "cell_type": "code",
      "metadata": {
        "id": "4byViygulLQM",
        "colab_type": "code",
        "colab": {}
      },
      "source": [
        "\n",
        "features_df = normalised_df.drop(columns = ['Appliances'])\n",
        "\n",
        "target = normalised_df['Appliances']"
      ],
      "execution_count": null,
      "outputs": []
    },
    {
      "cell_type": "markdown",
      "metadata": {
        "id": "XFDwEP8QlLQT",
        "colab_type": "text"
      },
      "source": [
        "### Split the dataset 70:30 for training & testing"
      ]
    },
    {
      "cell_type": "code",
      "metadata": {
        "id": "hCJjkinllLQU",
        "colab_type": "code",
        "colab": {}
      },
      "source": [
        "x_train, x_test, y_train, y_test = train_test_split(features_df, target, test_size= 0.3 , random_state= 42 )"
      ],
      "execution_count": null,
      "outputs": []
    },
    {
      "cell_type": "markdown",
      "metadata": {
        "id": "xN1M1Z0LlLQc",
        "colab_type": "text"
      },
      "source": [
        "### Carry out Multiple Linear Regression on the Training Set to obtain a model"
      ]
    },
    {
      "cell_type": "code",
      "metadata": {
        "id": "tlu1urPdlLQd",
        "colab_type": "code",
        "colab": {},
        "outputId": "fe49e6d8-c629-4a27-ff9a-9d004142b3e6"
      },
      "source": [
        "from sklearn.linear_model import LinearRegression\n",
        "\n",
        "linear_model = LinearRegression() \n",
        "\n",
        "#fit the model to the training dataset \n",
        "linear_model.fit(x_train, y_train) "
      ],
      "execution_count": null,
      "outputs": [
        {
          "output_type": "execute_result",
          "data": {
            "text/plain": [
              "LinearRegression(copy_X=True, fit_intercept=True, n_jobs=None, normalize=False)"
            ]
          },
          "metadata": {
            "tags": []
          },
          "execution_count": 7
        }
      ]
    },
    {
      "cell_type": "markdown",
      "metadata": {
        "id": "Qmc6nDuPlLQj",
        "colab_type": "text"
      },
      "source": [
        "### Obtain Predictions"
      ]
    },
    {
      "cell_type": "code",
      "metadata": {
        "id": "Kb6HYkqHlLQk",
        "colab_type": "code",
        "colab": {}
      },
      "source": [
        "predicted_values = linear_model.predict(x_test) "
      ],
      "execution_count": null,
      "outputs": []
    },
    {
      "cell_type": "markdown",
      "metadata": {
        "id": "2l0Y46JAlLQs",
        "colab_type": "text"
      },
      "source": [
        "### Question17"
      ]
    },
    {
      "cell_type": "code",
      "metadata": {
        "id": "ZPr1GKkRlLQu",
        "colab_type": "code",
        "colab": {},
        "outputId": "10f875a6-4903-4bd1-c2a8-2a95da3a0f58"
      },
      "source": [
        "weights = pd.Series(linear_model.coef_, x_train.columns).sort_values()\n",
        "weights_df = pd.DataFrame(weights).reset_index()\n",
        "weights_df.columns = ['Features', 'Linear Model Regression']\n",
        "weights_df['Linear Model Regression'].round(3)\n",
        "weights_df"
      ],
      "execution_count": null,
      "outputs": [
        {
          "output_type": "execute_result",
          "data": {
            "text/html": [
              "<div>\n",
              "<style scoped>\n",
              "    .dataframe tbody tr th:only-of-type {\n",
              "        vertical-align: middle;\n",
              "    }\n",
              "\n",
              "    .dataframe tbody tr th {\n",
              "        vertical-align: top;\n",
              "    }\n",
              "\n",
              "    .dataframe thead th {\n",
              "        text-align: right;\n",
              "    }\n",
              "</style>\n",
              "<table border=\"1\" class=\"dataframe\">\n",
              "  <thead>\n",
              "    <tr style=\"text-align: right;\">\n",
              "      <th></th>\n",
              "      <th>Features</th>\n",
              "      <th>Linear Model Regression</th>\n",
              "    </tr>\n",
              "  </thead>\n",
              "  <tbody>\n",
              "    <tr>\n",
              "      <th>0</th>\n",
              "      <td>Humidity_Living_Rm</td>\n",
              "      <td>-0.456698</td>\n",
              "    </tr>\n",
              "    <tr>\n",
              "      <th>1</th>\n",
              "      <td>Temp_Outside</td>\n",
              "      <td>-0.321860</td>\n",
              "    </tr>\n",
              "    <tr>\n",
              "      <th>2</th>\n",
              "      <td>Temp_Living_Rm</td>\n",
              "      <td>-0.236178</td>\n",
              "    </tr>\n",
              "    <tr>\n",
              "      <th>3</th>\n",
              "      <td>Temp_Parents_Rm</td>\n",
              "      <td>-0.189941</td>\n",
              "    </tr>\n",
              "    <tr>\n",
              "      <th>4</th>\n",
              "      <td>Humidity_Teens_Rm</td>\n",
              "      <td>-0.157595</td>\n",
              "    </tr>\n",
              "    <tr>\n",
              "      <th>5</th>\n",
              "      <td>Humidity_Outside</td>\n",
              "      <td>-0.077671</td>\n",
              "    </tr>\n",
              "    <tr>\n",
              "      <th>6</th>\n",
              "      <td>Humidity_Ironing_Rm</td>\n",
              "      <td>-0.044614</td>\n",
              "    </tr>\n",
              "    <tr>\n",
              "      <th>7</th>\n",
              "      <td>Humidity_Parents_Rm</td>\n",
              "      <td>-0.039800</td>\n",
              "    </tr>\n",
              "    <tr>\n",
              "      <th>8</th>\n",
              "      <td>Temp_Bathroom</td>\n",
              "      <td>-0.015657</td>\n",
              "    </tr>\n",
              "    <tr>\n",
              "      <th>9</th>\n",
              "      <td>Temp_Kitchen</td>\n",
              "      <td>-0.003281</td>\n",
              "    </tr>\n",
              "    <tr>\n",
              "      <th>10</th>\n",
              "      <td>Random_Variable_1</td>\n",
              "      <td>0.000770</td>\n",
              "    </tr>\n",
              "    <tr>\n",
              "      <th>11</th>\n",
              "      <td>Random_Variable_2</td>\n",
              "      <td>0.000770</td>\n",
              "    </tr>\n",
              "    <tr>\n",
              "      <th>12</th>\n",
              "      <td>Press_mm_hg</td>\n",
              "      <td>0.006839</td>\n",
              "    </tr>\n",
              "    <tr>\n",
              "      <th>13</th>\n",
              "      <td>Temp_Ironing_Rm</td>\n",
              "      <td>0.010319</td>\n",
              "    </tr>\n",
              "    <tr>\n",
              "      <th>14</th>\n",
              "      <td>Visibility_km</td>\n",
              "      <td>0.012307</td>\n",
              "    </tr>\n",
              "    <tr>\n",
              "      <th>15</th>\n",
              "      <td>Humidity_Bathroom</td>\n",
              "      <td>0.016006</td>\n",
              "    </tr>\n",
              "    <tr>\n",
              "      <th>16</th>\n",
              "      <td>Humidity_Office</td>\n",
              "      <td>0.026386</td>\n",
              "    </tr>\n",
              "    <tr>\n",
              "      <th>17</th>\n",
              "      <td>Temp_Office</td>\n",
              "      <td>0.028981</td>\n",
              "    </tr>\n",
              "    <tr>\n",
              "      <th>18</th>\n",
              "      <td>Windspeed_m/s</td>\n",
              "      <td>0.029183</td>\n",
              "    </tr>\n",
              "    <tr>\n",
              "      <th>19</th>\n",
              "      <td>Humidity_north_side</td>\n",
              "      <td>0.038049</td>\n",
              "    </tr>\n",
              "    <tr>\n",
              "      <th>20</th>\n",
              "      <td>Humidity_Laundry_Rm</td>\n",
              "      <td>0.096048</td>\n",
              "    </tr>\n",
              "    <tr>\n",
              "      <th>21</th>\n",
              "      <td>Temp_Teens_Rm</td>\n",
              "      <td>0.101995</td>\n",
              "    </tr>\n",
              "    <tr>\n",
              "      <th>22</th>\n",
              "      <td>Tdewpoint</td>\n",
              "      <td>0.117758</td>\n",
              "    </tr>\n",
              "    <tr>\n",
              "      <th>23</th>\n",
              "      <td>Temp_north_side</td>\n",
              "      <td>0.236425</td>\n",
              "    </tr>\n",
              "    <tr>\n",
              "      <th>24</th>\n",
              "      <td>Temp_Laundry_Rm</td>\n",
              "      <td>0.290627</td>\n",
              "    </tr>\n",
              "    <tr>\n",
              "      <th>25</th>\n",
              "      <td>Humidity_Kitchen</td>\n",
              "      <td>0.553547</td>\n",
              "    </tr>\n",
              "  </tbody>\n",
              "</table>\n",
              "</div>"
            ],
            "text/plain": [
              "               Features  Linear Model Regression\n",
              "0    Humidity_Living_Rm                -0.456698\n",
              "1          Temp_Outside                -0.321860\n",
              "2        Temp_Living_Rm                -0.236178\n",
              "3       Temp_Parents_Rm                -0.189941\n",
              "4     Humidity_Teens_Rm                -0.157595\n",
              "5      Humidity_Outside                -0.077671\n",
              "6   Humidity_Ironing_Rm                -0.044614\n",
              "7   Humidity_Parents_Rm                -0.039800\n",
              "8         Temp_Bathroom                -0.015657\n",
              "9          Temp_Kitchen                -0.003281\n",
              "10    Random_Variable_1                 0.000770\n",
              "11    Random_Variable_2                 0.000770\n",
              "12          Press_mm_hg                 0.006839\n",
              "13      Temp_Ironing_Rm                 0.010319\n",
              "14        Visibility_km                 0.012307\n",
              "15    Humidity_Bathroom                 0.016006\n",
              "16      Humidity_Office                 0.026386\n",
              "17          Temp_Office                 0.028981\n",
              "18        Windspeed_m/s                 0.029183\n",
              "19  Humidity_north_side                 0.038049\n",
              "20  Humidity_Laundry_Rm                 0.096048\n",
              "21        Temp_Teens_Rm                 0.101995\n",
              "22            Tdewpoint                 0.117758\n",
              "23      Temp_north_side                 0.236425\n",
              "24      Temp_Laundry_Rm                 0.290627\n",
              "25     Humidity_Kitchen                 0.553547"
            ]
          },
          "metadata": {
            "tags": []
          },
          "execution_count": 9
        }
      ]
    },
    {
      "cell_type": "markdown",
      "metadata": {
        "id": "C6bkUjqhlLRF",
        "colab_type": "text"
      },
      "source": [
        "### Regression Performance"
      ]
    },
    {
      "cell_type": "code",
      "metadata": {
        "id": "4T9q1YaklLRH",
        "colab_type": "code",
        "colab": {},
        "outputId": "173aa4b7-dc2b-45e5-ac8d-867583a8c116"
      },
      "source": [
        "#Mean Absolute Error\n",
        "mae = round(mean_absolute_error(y_test, predicted_values),3)\n",
        "\n",
        "#Residual Sum of Squares (RSS)\n",
        "rss = round(np.sum(np.square(y_test - predicted_values)),3)\n",
        "\n",
        "#Root Mean Square Error\n",
        "rmse = round(np.sqrt(mean_squared_error(y_test, predicted_values)),3)\n",
        "\n",
        "#R-Squared\n",
        "r2 = round(r2_score(y_test, predicted_values),3)\n",
        "\n",
        "reg_per = pd.DataFrame([{'mae': mae, 'rss': rss, 'rmse': rmse, 'r2': r2}])\n",
        "reg_per"
      ],
      "execution_count": null,
      "outputs": [
        {
          "output_type": "execute_result",
          "data": {
            "text/html": [
              "<div>\n",
              "<style scoped>\n",
              "    .dataframe tbody tr th:only-of-type {\n",
              "        vertical-align: middle;\n",
              "    }\n",
              "\n",
              "    .dataframe tbody tr th {\n",
              "        vertical-align: top;\n",
              "    }\n",
              "\n",
              "    .dataframe thead th {\n",
              "        text-align: right;\n",
              "    }\n",
              "</style>\n",
              "<table border=\"1\" class=\"dataframe\">\n",
              "  <thead>\n",
              "    <tr style=\"text-align: right;\">\n",
              "      <th></th>\n",
              "      <th>mae</th>\n",
              "      <th>r2</th>\n",
              "      <th>rmse</th>\n",
              "      <th>rss</th>\n",
              "    </tr>\n",
              "  </thead>\n",
              "  <tbody>\n",
              "    <tr>\n",
              "      <th>0</th>\n",
              "      <td>0.05</td>\n",
              "      <td>0.149</td>\n",
              "      <td>0.088</td>\n",
              "      <td>45.348</td>\n",
              "    </tr>\n",
              "  </tbody>\n",
              "</table>\n",
              "</div>"
            ],
            "text/plain": [
              "    mae     r2   rmse     rss\n",
              "0  0.05  0.149  0.088  45.348"
            ]
          },
          "metadata": {
            "tags": []
          },
          "execution_count": 12
        }
      ]
    },
    {
      "cell_type": "markdown",
      "metadata": {
        "id": "_Ov8WWIzlLRQ",
        "colab_type": "text"
      },
      "source": [
        "### Question 12"
      ]
    },
    {
      "cell_type": "code",
      "metadata": {
        "id": "yW7a9XPklLRR",
        "colab_type": "code",
        "colab": {}
      },
      "source": [
        "Q12feature = normalised_df['Temp_Living_Rm']\n",
        "Q12target = normalised_df['Temp_north_side']"
      ],
      "execution_count": null,
      "outputs": []
    },
    {
      "cell_type": "code",
      "metadata": {
        "id": "P4f8NN51lLRZ",
        "colab_type": "code",
        "colab": {}
      },
      "source": [
        "from sklearn.model_selection import train_test_split \n",
        "\n",
        "Q12_x_train, Q12_x_test, Q12_y_train, Q12_y_test = train_test_split(Q12feature, Q12target, test_size= 0.3 , random_state= 42 )\n",
        "\n",
        "Q12_x_train_shape = np.array(Q12_x_train).reshape((-1, 1))\n",
        "Q12_x_test_shape =  np.array(Q12_x_test).reshape((-1, 1))"
      ],
      "execution_count": null,
      "outputs": []
    },
    {
      "cell_type": "code",
      "metadata": {
        "id": "0GChsCXFlLRf",
        "colab_type": "code",
        "colab": {},
        "outputId": "7ceec69a-6399-4e67-851a-ce0be14251c2"
      },
      "source": [
        "#Train the model\n",
        "\n",
        "regr = LinearRegression()\n",
        "\n",
        "regr.fit(Q12_x_train_shape , Q12_y_train)"
      ],
      "execution_count": null,
      "outputs": [
        {
          "output_type": "execute_result",
          "data": {
            "text/plain": [
              "LinearRegression(copy_X=True, fit_intercept=True, n_jobs=None, normalize=False)"
            ]
          },
          "metadata": {
            "tags": []
          },
          "execution_count": 15
        }
      ]
    },
    {
      "cell_type": "code",
      "metadata": {
        "id": "pZ0VK8BslLRm",
        "colab_type": "code",
        "colab": {}
      },
      "source": [
        "#Make predictions\n",
        "Q12_y__predicted = regr.predict(Q12_x_test_shape)"
      ],
      "execution_count": null,
      "outputs": []
    },
    {
      "cell_type": "code",
      "metadata": {
        "id": "Qh5A19PxlLRr",
        "colab_type": "code",
        "colab": {},
        "outputId": "f42c963d-529b-4076-c67b-9a4edc5406ff"
      },
      "source": [
        "#The R^2\n",
        "\n",
        "Q12_r2 = r2_score(Q12_y_test, Q12_y__predicted)\n",
        "round(Q12_r2, 2)"
      ],
      "execution_count": null,
      "outputs": [
        {
          "output_type": "execute_result",
          "data": {
            "text/plain": [
              "0.64"
            ]
          },
          "metadata": {
            "tags": []
          },
          "execution_count": 17
        }
      ]
    },
    {
      "cell_type": "markdown",
      "metadata": {
        "id": "M0JLNe8LlLRx",
        "colab_type": "text"
      },
      "source": [
        "### Question 13"
      ]
    },
    {
      "cell_type": "code",
      "metadata": {
        "id": "ZFDlL7Y9lLRy",
        "colab_type": "code",
        "colab": {},
        "outputId": "31f807a2-3dc3-4722-befa-3dd99f4fad9c"
      },
      "source": [
        "#Mean Absolute Error\n",
        "\n",
        "Q12_mae = mean_absolute_error(Q12_y_test, Q12_y__predicted)\n",
        "round(Q12_mae,2)"
      ],
      "execution_count": null,
      "outputs": [
        {
          "output_type": "execute_result",
          "data": {
            "text/plain": [
              "0.08"
            ]
          },
          "metadata": {
            "tags": []
          },
          "execution_count": 18
        }
      ]
    },
    {
      "cell_type": "markdown",
      "metadata": {
        "id": "Ao4XEglBlLR3",
        "colab_type": "text"
      },
      "source": [
        "### Question 14"
      ]
    },
    {
      "cell_type": "code",
      "metadata": {
        "id": "xiEUFbpClLR4",
        "colab_type": "code",
        "colab": {},
        "outputId": "e9eb14bd-e4c0-4614-c206-dfb925b73119"
      },
      "source": [
        "#Residual Sum of Squares\n",
        "\n",
        "Q12_rss = np.sum(np.square(Q12_y_test - Q12_y__predicted))\n",
        "\n",
        "round(Q12_rss,2)"
      ],
      "execution_count": null,
      "outputs": [
        {
          "output_type": "execute_result",
          "data": {
            "text/plain": [
              "66.12"
            ]
          },
          "metadata": {
            "tags": []
          },
          "execution_count": 19
        }
      ]
    },
    {
      "cell_type": "markdown",
      "metadata": {
        "id": "hA_rmqV6lLR7",
        "colab_type": "text"
      },
      "source": [
        "### Question 15"
      ]
    },
    {
      "cell_type": "code",
      "metadata": {
        "id": "kQ7duQYUlLR8",
        "colab_type": "code",
        "colab": {},
        "outputId": "00f62e52-a8e4-4607-ea8d-6f37788b4f60"
      },
      "source": [
        "#Root Mean Square Error\n",
        "\n",
        "Q12_rmse = np.sqrt(mean_squared_error(Q12_y_test, Q12_y__predicted))\n",
        "\n",
        "round(Q12_rmse,3)"
      ],
      "execution_count": null,
      "outputs": [
        {
          "output_type": "execute_result",
          "data": {
            "text/plain": [
              "0.106"
            ]
          },
          "metadata": {
            "tags": []
          },
          "execution_count": 20
        }
      ]
    },
    {
      "cell_type": "markdown",
      "metadata": {
        "id": "G3N4ZI2XlLSC",
        "colab_type": "text"
      },
      "source": [
        "### Question 18"
      ]
    },
    {
      "cell_type": "code",
      "metadata": {
        "id": "ZWveB-UwlLSD",
        "colab_type": "code",
        "colab": {},
        "outputId": "da8142df-fcc2-4106-96e1-1ea9488e406f"
      },
      "source": [
        "ridge_reg = Ridge(alpha = 0.4)\n",
        "\n",
        "ridge_reg.fit(x_train, y_train)\n"
      ],
      "execution_count": null,
      "outputs": [
        {
          "output_type": "execute_result",
          "data": {
            "text/plain": [
              "Ridge(alpha=0.4, copy_X=True, fit_intercept=True, max_iter=None,\n",
              "      normalize=False, random_state=None, solver='auto', tol=0.001)"
            ]
          },
          "metadata": {
            "tags": []
          },
          "execution_count": 21
        }
      ]
    },
    {
      "cell_type": "code",
      "metadata": {
        "id": "qVynp5QjlLSI",
        "colab_type": "code",
        "colab": {},
        "outputId": "07f139ae-7de8-4d2a-b915-c27e27338f59"
      },
      "source": [
        "ridge_y_predicted = ridge_reg.predict(x_test) \n",
        "\n",
        "ridge_rmse = np.sqrt(mean_squared_error(y_test, ridge_y_predicted))\n",
        "\n",
        "round(ridge_rmse,3)"
      ],
      "execution_count": null,
      "outputs": [
        {
          "output_type": "execute_result",
          "data": {
            "text/plain": [
              "0.088"
            ]
          },
          "metadata": {
            "tags": []
          },
          "execution_count": 23
        }
      ]
    },
    {
      "cell_type": "markdown",
      "metadata": {
        "id": "ZScx1hBwlLSM",
        "colab_type": "text"
      },
      "source": [
        "### Question 19"
      ]
    },
    {
      "cell_type": "code",
      "metadata": {
        "id": "dG0JnJODlLSM",
        "colab_type": "code",
        "colab": {},
        "outputId": "4365b39b-d548-40b6-de04-c4d94b54cf20"
      },
      "source": [
        "lasso_reg = Lasso(alpha = 0.001)\n",
        "\n",
        "lasso_reg.fit(x_train, y_train)"
      ],
      "execution_count": null,
      "outputs": [
        {
          "output_type": "execute_result",
          "data": {
            "text/plain": [
              "Lasso(alpha=0.001, copy_X=True, fit_intercept=True, max_iter=1000,\n",
              "      normalize=False, positive=False, precompute=False, random_state=None,\n",
              "      selection='cyclic', tol=0.0001, warm_start=False)"
            ]
          },
          "metadata": {
            "tags": []
          },
          "execution_count": 24
        }
      ]
    },
    {
      "cell_type": "code",
      "metadata": {
        "id": "JSJeDEXzlLSW",
        "colab_type": "code",
        "colab": {},
        "outputId": "ea6d0542-8a14-44e4-9028-a5c3a1fb3fc3"
      },
      "source": [
        "lasso_y_predicted = lasso_reg.predict(x_test) \n",
        "\n",
        "lasso_weights = pd.Series(lasso_reg.coef_, x_train.columns).sort_values()\n",
        "lasso_weights_df = pd.DataFrame(lasso_weights).reset_index()\n",
        "lasso_weights_df.columns = ['Features', 'Lasso Regression']\n",
        "lasso_weights_df['Lasso Regression'].round(3)\n",
        "lasso_weights_df"
      ],
      "execution_count": null,
      "outputs": [
        {
          "output_type": "execute_result",
          "data": {
            "text/html": [
              "<div>\n",
              "<style scoped>\n",
              "    .dataframe tbody tr th:only-of-type {\n",
              "        vertical-align: middle;\n",
              "    }\n",
              "\n",
              "    .dataframe tbody tr th {\n",
              "        vertical-align: top;\n",
              "    }\n",
              "\n",
              "    .dataframe thead th {\n",
              "        text-align: right;\n",
              "    }\n",
              "</style>\n",
              "<table border=\"1\" class=\"dataframe\">\n",
              "  <thead>\n",
              "    <tr style=\"text-align: right;\">\n",
              "      <th></th>\n",
              "      <th>Features</th>\n",
              "      <th>Lasso Regression</th>\n",
              "    </tr>\n",
              "  </thead>\n",
              "  <tbody>\n",
              "    <tr>\n",
              "      <th>0</th>\n",
              "      <td>Humidity_Outside</td>\n",
              "      <td>-0.049557</td>\n",
              "    </tr>\n",
              "    <tr>\n",
              "      <th>1</th>\n",
              "      <td>Humidity_Teens_Rm</td>\n",
              "      <td>-0.000110</td>\n",
              "    </tr>\n",
              "    <tr>\n",
              "      <th>2</th>\n",
              "      <td>Temp_Kitchen</td>\n",
              "      <td>0.000000</td>\n",
              "    </tr>\n",
              "    <tr>\n",
              "      <th>3</th>\n",
              "      <td>Tdewpoint</td>\n",
              "      <td>0.000000</td>\n",
              "    </tr>\n",
              "    <tr>\n",
              "      <th>4</th>\n",
              "      <td>Visibility_km</td>\n",
              "      <td>0.000000</td>\n",
              "    </tr>\n",
              "    <tr>\n",
              "      <th>5</th>\n",
              "      <td>Press_mm_hg</td>\n",
              "      <td>-0.000000</td>\n",
              "    </tr>\n",
              "    <tr>\n",
              "      <th>6</th>\n",
              "      <td>Temp_Outside</td>\n",
              "      <td>0.000000</td>\n",
              "    </tr>\n",
              "    <tr>\n",
              "      <th>7</th>\n",
              "      <td>Humidity_Parents_Rm</td>\n",
              "      <td>-0.000000</td>\n",
              "    </tr>\n",
              "    <tr>\n",
              "      <th>8</th>\n",
              "      <td>Temp_Parents_Rm</td>\n",
              "      <td>-0.000000</td>\n",
              "    </tr>\n",
              "    <tr>\n",
              "      <th>9</th>\n",
              "      <td>Temp_Teens_Rm</td>\n",
              "      <td>0.000000</td>\n",
              "    </tr>\n",
              "    <tr>\n",
              "      <th>10</th>\n",
              "      <td>Humidity_Ironing_Rm</td>\n",
              "      <td>-0.000000</td>\n",
              "    </tr>\n",
              "    <tr>\n",
              "      <th>11</th>\n",
              "      <td>Random_Variable_1</td>\n",
              "      <td>-0.000000</td>\n",
              "    </tr>\n",
              "    <tr>\n",
              "      <th>12</th>\n",
              "      <td>Temp_Ironing_Rm</td>\n",
              "      <td>-0.000000</td>\n",
              "    </tr>\n",
              "    <tr>\n",
              "      <th>13</th>\n",
              "      <td>Temp_north_side</td>\n",
              "      <td>0.000000</td>\n",
              "    </tr>\n",
              "    <tr>\n",
              "      <th>14</th>\n",
              "      <td>Humidity_Bathroom</td>\n",
              "      <td>0.000000</td>\n",
              "    </tr>\n",
              "    <tr>\n",
              "      <th>15</th>\n",
              "      <td>Temp_Bathroom</td>\n",
              "      <td>-0.000000</td>\n",
              "    </tr>\n",
              "    <tr>\n",
              "      <th>16</th>\n",
              "      <td>Humidity_Office</td>\n",
              "      <td>0.000000</td>\n",
              "    </tr>\n",
              "    <tr>\n",
              "      <th>17</th>\n",
              "      <td>Temp_Office</td>\n",
              "      <td>-0.000000</td>\n",
              "    </tr>\n",
              "    <tr>\n",
              "      <th>18</th>\n",
              "      <td>Humidity_Laundry_Rm</td>\n",
              "      <td>0.000000</td>\n",
              "    </tr>\n",
              "    <tr>\n",
              "      <th>19</th>\n",
              "      <td>Temp_Laundry_Rm</td>\n",
              "      <td>0.000000</td>\n",
              "    </tr>\n",
              "    <tr>\n",
              "      <th>20</th>\n",
              "      <td>Humidity_Living_Rm</td>\n",
              "      <td>-0.000000</td>\n",
              "    </tr>\n",
              "    <tr>\n",
              "      <th>21</th>\n",
              "      <td>Temp_Living_Rm</td>\n",
              "      <td>0.000000</td>\n",
              "    </tr>\n",
              "    <tr>\n",
              "      <th>22</th>\n",
              "      <td>Humidity_north_side</td>\n",
              "      <td>-0.000000</td>\n",
              "    </tr>\n",
              "    <tr>\n",
              "      <th>23</th>\n",
              "      <td>Random_Variable_2</td>\n",
              "      <td>-0.000000</td>\n",
              "    </tr>\n",
              "    <tr>\n",
              "      <th>24</th>\n",
              "      <td>Windspeed_m/s</td>\n",
              "      <td>0.002912</td>\n",
              "    </tr>\n",
              "    <tr>\n",
              "      <th>25</th>\n",
              "      <td>Humidity_Kitchen</td>\n",
              "      <td>0.017880</td>\n",
              "    </tr>\n",
              "  </tbody>\n",
              "</table>\n",
              "</div>"
            ],
            "text/plain": [
              "               Features  Lasso Regression\n",
              "0      Humidity_Outside         -0.049557\n",
              "1     Humidity_Teens_Rm         -0.000110\n",
              "2          Temp_Kitchen          0.000000\n",
              "3             Tdewpoint          0.000000\n",
              "4         Visibility_km          0.000000\n",
              "5           Press_mm_hg         -0.000000\n",
              "6          Temp_Outside          0.000000\n",
              "7   Humidity_Parents_Rm         -0.000000\n",
              "8       Temp_Parents_Rm         -0.000000\n",
              "9         Temp_Teens_Rm          0.000000\n",
              "10  Humidity_Ironing_Rm         -0.000000\n",
              "11    Random_Variable_1         -0.000000\n",
              "12      Temp_Ironing_Rm         -0.000000\n",
              "13      Temp_north_side          0.000000\n",
              "14    Humidity_Bathroom          0.000000\n",
              "15        Temp_Bathroom         -0.000000\n",
              "16      Humidity_Office          0.000000\n",
              "17          Temp_Office         -0.000000\n",
              "18  Humidity_Laundry_Rm          0.000000\n",
              "19      Temp_Laundry_Rm          0.000000\n",
              "20   Humidity_Living_Rm         -0.000000\n",
              "21       Temp_Living_Rm          0.000000\n",
              "22  Humidity_north_side         -0.000000\n",
              "23    Random_Variable_2         -0.000000\n",
              "24        Windspeed_m/s          0.002912\n",
              "25     Humidity_Kitchen          0.017880"
            ]
          },
          "metadata": {
            "tags": []
          },
          "execution_count": 25
        }
      ]
    },
    {
      "cell_type": "markdown",
      "metadata": {
        "id": "LvSJr43rlLSZ",
        "colab_type": "text"
      },
      "source": [
        "### Question 20"
      ]
    },
    {
      "cell_type": "code",
      "metadata": {
        "id": "jrFWOOEZlLSa",
        "colab_type": "code",
        "colab": {},
        "outputId": "6bb6133a-2dc1-47d8-bdf6-326d3d77ce17"
      },
      "source": [
        "lasso_rmse = np.sqrt(mean_squared_error(y_test, lasso_y_predicted))\n",
        "\n",
        "round(lasso_rmse,3)"
      ],
      "execution_count": null,
      "outputs": [
        {
          "output_type": "execute_result",
          "data": {
            "text/plain": [
              "0.094"
            ]
          },
          "metadata": {
            "tags": []
          },
          "execution_count": 28
        }
      ]
    },
    {
      "cell_type": "code",
      "metadata": {
        "id": "potvfS7PlLSg",
        "colab_type": "code",
        "colab": {}
      },
      "source": [
        ""
      ],
      "execution_count": null,
      "outputs": []
    }
  ]
}